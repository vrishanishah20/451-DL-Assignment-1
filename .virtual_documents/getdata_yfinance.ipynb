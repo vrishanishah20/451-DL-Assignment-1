

















# import Python packages
import polars as pl # pandas DataFrame utilities
import pandas as pd # pandas DataFrame utilities

# package for downloading historical market data
import yfinance as yf

import warnings
# Suppress warnings for cleaner output
warnings.filterwarnings('ignore')





start_date = '2000-01-01'
end_date = '2025-09-25'

startfile = "msds_getdata_yfinance_"





symbol = 'AAPL'
ticker = yf.Ticker(symbol)
historical_data = ticker.history(start = start_date, end = end_date)
print(historical_data.head())
historical_data.to_csv(startfile + symbol.lower() + ".csv")


# check that the file is in the working directory
!ls 
