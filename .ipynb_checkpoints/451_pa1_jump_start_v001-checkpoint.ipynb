{
 "cells": [
  {
   "cell_type": "markdown",
   "metadata": {},
   "source": [
    "<h2><font color='#306998'><center>451 Financial Engineering: Programming Assignment 1</center></font></h2>\n",
    "<h3><center>Thomas W. Miller, June 18, 2025</center></h3>\n",
    "---"
   ]
  },
  {
   "cell_type": "markdown",
   "metadata": {},
   "source": [
    "## Overview \n",
    "We use machine learing classifiers, including tree-based ensemble boosting methods, to predict the direction of oil futures (up or down) using a number of lagged price features. In particular, we look at daily closing spot prices for [West Texas Intermediate (ticker WTI)](https://en.wikipedia.org/wiki/West_Texas_Intermediate) with lags of one to seven days, as well as features based on opening, closing, high, and low price points, and daily trading volume.\n",
    "\n",
    "A model for predicting the direction of daily returns sets the stage for testing the predictive utility of additional features. The domain of potential features or leading indicators is wide, including those associated with other price series, economic indicators, international events, securities filings, analyst and news reports, and media measures."
   ]
  },
  {
   "cell_type": "markdown",
   "metadata": {
    "tags": []
   },
   "source": [
    "### Import Libraries\n",
    "We draw on Python packages for data manipulation and modeling. Most important are Polars, a high-performance alternative to Pandas for data manipulation, and Scikit-Learn for machine learning study design and modeling algorithms."
   ]
  },
  {
   "cell_type": "code",
   "execution_count": 17,
   "metadata": {
    "scrolled": true
   },
   "outputs": [],
   "source": [
    "import os\n",
    "# Ignore warnings\n",
    "import warnings\n",
    "warnings.filterwarnings('ignore')\n",
    "warnings.simplefilter(action='ignore', category=FutureWarning)\n",
    "\n",
    "# Import Python Packages for data manipulation, data pipelines, and databases\n",
    "import numpy as np\n",
    "import pyarrow # foundation for polars\n",
    "import polars as pl # DataFrame work superior to Pandas\n",
    "\n",
    "# Plotting\n",
    "import matplotlib.pyplot as plt\n",
    "# Display static plots directly in the notebook output \n",
    "%matplotlib inline\n",
    "# create stylized visualizations, including heat maps\n",
    "import seaborn as sns\n",
    "\n",
    "# Preprocessing\n",
    "from sklearn.preprocessing import MinMaxScaler, StandardScaler\n",
    "from sklearn.pipeline import Pipeline\n",
    "from sklearn.model_selection import (RandomizedSearchCV, \n",
    "                                    TimeSeriesSplit)\n",
    "from sklearn.model_selection import cross_validate\n",
    "\n",
    "# utilized in all possible subsets classification work\n",
    "from sklearn.linear_model import LogisticRegression\n",
    "from sklearn.metrics import log_loss\n",
    "\n",
    "# needed for randomized search\n",
    "from sklearn.model_selection import RandomizedSearchCV\n",
    "from scipy.stats import randint, uniform\n",
    "\n",
    "# metrics in xgboost tuning and final model evaluation\n",
    "from sklearn.metrics import (accuracy_score,\n",
    "                             classification_report, \n",
    "                             roc_curve, \n",
    "                             roc_auc_score,\n",
    "                             RocCurveDisplay,\n",
    "                             ConfusionMatrixDisplay,\n",
    "                             confusion_matrix,\n",
    "                             precision_score,\n",
    "                             recall_score,\n",
    "                             f1_score\n",
    "                            )\n",
    "\n",
    "# XGBoost Package... more complete than SciKit-Learn boosting methods\n",
    "import xgboost as xgb\n",
    "from xgboost import XGBRegressor, XGBClassifier, plot_importance\n",
    "\n",
    "# import yfinance as yf  # used earlier to obtain the price series\n",
    "# import yfinance as yf\n",
    "\n",
    "import warnings\n",
    "# Suppress warnings for cleaner output\n",
    "warnings.filterwarnings('ignore') "
   ]
  },
  {
   "cell_type": "markdown",
   "metadata": {},
   "source": [
    "### Retrieve Data\n",
    "In previous work, we retrieved price data for WTI from Yahoo Finance. The code is shown in the next commented-out cell."
   ]
  },
  {
   "cell_type": "code",
   "execution_count": 18,
   "metadata": {},
   "outputs": [
    {
     "data": {
      "text/plain": [
       "'\\nPrevious work to retrieve data from Yahoo Finance\\n\\nsymbol = \\'WTI\\'\\nstart_date = \\'2000-01-01\\'\\nend_date = \\'2025-05-27\\'\\n\\nsymbol = \\'WTI\\'\\nticker = yf.Ticker(symbol)\\nhistorical_data = ticker.history(start = start_date, end = end_date, period = \\'1mo\\')\\nprint(historical_data)\\n\\nprint(\"type of historical_data\", type(historical_data))\\n\\nhistorical_data.to_csv(\"wti_historical_data.csv\")\\n'"
      ]
     },
     "execution_count": 18,
     "metadata": {},
     "output_type": "execute_result"
    }
   ],
   "source": [
    "'''\n",
    "Previous work to retrieve data from Yahoo Finance\n",
    "\n",
    "symbol = 'WTI'\n",
    "start_date = '2000-01-01'\n",
    "end_date = '2025-05-27'\n",
    "\n",
    "symbol = 'WTI'\n",
    "ticker = yf.Ticker(symbol)\n",
    "historical_data = ticker.history(start = start_date, end = end_date, period = '1mo')\n",
    "print(historical_data)\n",
    "\n",
    "print(\"type of historical_data\", type(historical_data))\n",
    "\n",
    "historical_data.to_csv(\"wti_historical_data.csv\")\n",
    "'''"
   ]
  },
  {
   "cell_type": "markdown",
   "metadata": {},
   "source": [
    "### Polars DataFrame Development\n",
    "The following code cell demonstrates Polars use with the time series DataFrame for our selected market/ticker, WTI."
   ]
  },
  {
   "cell_type": "code",
   "execution_count": 20,
   "metadata": {},
   "outputs": [
    {
     "name": "stdout",
     "output_type": "stream",
     "text": [
      "Schema({'Date': Datetime(time_unit='us', time_zone='UTC'), 'Open': Float64, 'High': Float64, 'Low': Float64, 'Close': Float64, 'Volume': Int64, 'Dividends': Float64, 'Stock Splits': Float64})\n",
      "Schema({'Date': Datetime(time_unit='us', time_zone='UTC'), 'Open': Float64, 'High': Float64, 'Low': Float64, 'Close': Float64, 'Volume': Float64, 'CloseLag1': Float64, 'CloseLag2': Float64, 'CloseLag3': Float64, 'HML': Float64, 'HMLLag1': Float64, 'HMLLag2': Float64, 'HMLLag3': Float64, 'OMC': Float64, 'OMCLag1': Float64, 'OMCLag2': Float64, 'OMCLag3': Float64, 'VolumeLag1': Float64, 'VolumeLag2': Float64, 'VolumeLag3': Float64, 'CloseEMA2': Float64, 'CloseEMA4': Float64, 'CloseEMA8': Float64, 'LogReturn': Float64, 'Target': Int32})\n"
     ]
    }
   ],
   "source": [
    "wti = pl.read_csv(\"msds_getdata_yfinance_aapl.csv\", try_parse_dates=True)\n",
    "\n",
    "# check the original schema\n",
    "print(wti.schema)\n",
    "\n",
    "# drop useless columns Dividends and StockSplits\n",
    "wti = wti.drop(['Dividends', 'Stock Splits'])\n",
    "\n",
    "# create lag price features\n",
    "wti = wti.with_columns((pl.col('Close')).shift().alias('CloseLag1'))\n",
    "wti = wti.with_columns((pl.col('CloseLag1')).shift().alias('CloseLag2'))\n",
    "wti = wti.with_columns((pl.col('CloseLag2')).shift().alias('CloseLag3'))\n",
    "\n",
    "# create high-minus-low (HML) for day and its lags\n",
    "wti = wti.with_columns((pl.col('High') - pl.col('Low')).alias('HML'))\n",
    "wti = wti.with_columns((pl.col('HML')).shift().alias('HMLLag1'))\n",
    "wti = wti.with_columns((pl.col('HMLLag1')).shift().alias('HMLLag2'))\n",
    "wti = wti.with_columns((pl.col('HMLLag2')).shift().alias('HMLLag3'))\n",
    "\n",
    "# create a net change for the day as the open minus closing price OMC\n",
    "# also create the corresponding lag metrics\n",
    "wti = wti.with_columns((pl.col('Open') - pl.col('Close')).alias('OMC'))\n",
    "wti = wti.with_columns((pl.col('OMC')).shift().alias('OMCLag1'))\n",
    "wti = wti.with_columns((pl.col('OMCLag1')).shift().alias('OMCLag2'))\n",
    "wti = wti.with_columns((pl.col('OMCLag2')).shift().alias('OMCLag3'))\n",
    "\n",
    "# create volume lag metrics\n",
    "wti = wti.with_columns((pl.col('Volume')).shift().alias('VolumeLag1'))\n",
    "wti = wti.with_columns((pl.col('VolumeLag1')).shift().alias('VolumeLag2'))\n",
    "wti = wti.with_columns((pl.col('VolumeLag2')).shift().alias('VolumeLag3'))\n",
    "\n",
    "# compute 10-day exponential moving averages of closing prices\n",
    "# compute acround CloseLag1 to avoid any \"leakage\" in explanatory variable set\n",
    "# note also the 10-day buffer between train and test in time-series cross-validation\n",
    "wti = wti.with_columns((pl.col('CloseLag1').ewm_mean(half_life=1,ignore_nulls=True)).alias('CloseEMA2'))\n",
    "wti = wti.with_columns((pl.col('CloseLag1').ewm_mean(half_life=2,ignore_nulls=True)).alias('CloseEMA4'))\n",
    "wti = wti.with_columns((pl.col('CloseLag1').ewm_mean(half_life=4,ignore_nulls=True)).alias('CloseEMA8'))\n",
    "\n",
    "# log daily returns\n",
    "wti = wti.with_columns(np.log(pl.col('Close')/pl.col('CloseLag1')).alias('LogReturn'))\n",
    "\n",
    "# set volume features to Float64 for subsequent use in Numpy arrays\n",
    "wti = wti.with_columns(\n",
    "    pl.col('Volume').cast(pl.Float64).round(0),\n",
    "    pl.col('VolumeLag1').cast(pl.Float64).round(0),\n",
    "    pl.col('VolumeLag2').cast(pl.Float64).round(0),\n",
    "    pl.col('VolumeLag3').cast(pl.Float64).round(0),\n",
    "    )\n",
    "\n",
    "# round other features to three decimal places for reporting and subsequent analytics\n",
    "wti = wti.with_columns(\n",
    "    pl.col('Open').round(3),\n",
    "    pl.col('High').round(3),    \n",
    "    pl.col('Low').round(3),\n",
    "    pl.col('Close').round(3),      \n",
    "    pl.col('CloseLag1').round(3),\n",
    "    pl.col('CloseLag2').round(3),  \n",
    "    pl.col('CloseLag3').round(3),\n",
    "    pl.col('HML').round(3),  \n",
    "    pl.col('HMLLag1').round(3),\n",
    "    pl.col('HMLLag2').round(3),  \n",
    "    pl.col('HMLLag3').round(3),\n",
    "    pl.col('OMC').round(3),  \n",
    "    pl.col('OMCLag1').round(3),\n",
    "    pl.col('OMCLag2').round(3),  \n",
    "    pl.col('OMCLag3').round(3), \n",
    "    pl.col('CloseEMA2').round(3),\n",
    "    pl.col('CloseEMA4').round(3), \n",
    "    pl.col('CloseEMA8').round(3))\n",
    "    \n",
    "# define binary target/response 1 = market price up since previous day, 0 = even or down \n",
    "wti = wti.with_columns(pl.when(pl.col('LogReturn')>0.0).then(pl.lit(1)).otherwise(pl.lit(0)).alias('Target'))\n",
    "\n",
    "print(wti.schema)\n",
    "\n",
    "# save to external comma-delimited text file for checking calculations in Excel\n",
    "wti.write_csv(\"aapl-with-computed-features.csv\")"
   ]
  },
  {
   "cell_type": "markdown",
   "metadata": {},
   "source": [
    "### Descriptive Statistics for Price Features"
   ]
  },
  {
   "cell_type": "code",
   "execution_count": 22,
   "metadata": {},
   "outputs": [
    {
     "name": "stdout",
     "output_type": "stream",
     "text": [
      "['statistic', 'Open', 'High', 'Low', 'Close', 'Volume', 'CloseLag1', 'CloseLag2', 'CloseLag3', 'HML', 'HMLLag1', 'HMLLag2', 'HMLLag3', 'OMC', 'OMCLag1', 'OMCLag2', 'OMCLag3', 'VolumeLag1', 'VolumeLag2', 'VolumeLag3', 'CloseEMA2', 'CloseEMA4', 'CloseEMA8', 'LogReturn', 'Target']\n",
      "Schema({'column': String, 'column_0': String, 'column_2': String, 'column_3': String, 'column_4': String, 'column_6': String, 'column_8': String})\n",
      "┌────────────┬──────────┬───────────────────────┬──────────────────────┬─────────────────────┬──────────────────────┬─────────────────────┐\n",
      "│ column     ┆ column_0 ┆ column_2              ┆ column_3             ┆ column_4            ┆ column_6             ┆ column_8            │\n",
      "╞════════════╪══════════╪═══════════════════════╪══════════════════════╪═════════════════════╪══════════════════════╪═════════════════════╡\n",
      "│ statistic  ┆ count    ┆ mean                  ┆ std                  ┆ min                 ┆ 50%                  ┆ max                 │\n",
      "│ Open       ┆ 6468.0   ┆ 46.120921459492884    ┆ 66.03913101568145    ┆ 0.195               ┆ 15.438               ┆ 257.277             │\n",
      "│ High       ┆ 6468.0   ┆ 46.62360497835498     ┆ 66.76058666021193    ┆ 0.198               ┆ 15.565               ┆ 259.18              │\n",
      "│ Low        ┆ 6468.0   ┆ 45.64927118119975     ┆ 65.38326269621751    ┆ 0.191               ┆ 15.295               ┆ 256.719             │\n",
      "│ Close      ┆ 6468.0   ┆ 46.15934817563389     ┆ 66.11080529424646    ┆ 0.197               ┆ 15.456               ┆ 258.104             │\n",
      "│ Volume     ┆ 6468.0   ┆ 376575420.1298701     ┆ 382245281.2346179    ┆ 23234700.0          ┆ 256450400.0          ┆ 7421640800.0        │\n",
      "│ CloseLag1  ┆ 6468.0   ┆ 46.12045995670996     ┆ 66.06348423151697    ┆ 0.197               ┆ 15.44                ┆ 258.104             │\n",
      "│ CloseLag2  ┆ 6468.0   ┆ 46.08124211502783     ┆ 66.01507826336547    ┆ 0.197               ┆ 15.434               ┆ 258.104             │\n",
      "│ CloseLag3  ┆ 6468.0   ┆ 46.04178014842301     ┆ 65.96579674108862    ┆ 0.197               ┆ 15.402               ┆ 258.104             │\n",
      "│ HML        ┆ 6468.0   ┆ 0.9743308596165737    ┆ 1.6828296058391077   ┆ 0.003               ┆ 0.248                ┆ 28.65               │\n",
      "│ HMLLag1    ┆ 6468.0   ┆ 0.9736130179344464    ┆ 1.6822302793937618   ┆ 0.003               ┆ 0.248                ┆ 28.65               │\n",
      "│ HMLLag2    ┆ 6468.0   ┆ 0.9730426716141       ┆ 1.6819107639464312   ┆ 0.003               ┆ 0.248                ┆ 28.65               │\n",
      "│ HMLLag3    ┆ 6468.0   ┆ 0.9717379406307978    ┆ 1.679326620793468    ┆ 0.003               ┆ 0.248                ┆ 28.65               │\n",
      "│ OMC        ┆ 6468.0   ┆ -0.038438620902906624 ┆ 1.184255918501584    ┆ -26.834             ┆ -0.002               ┆ 14.245              │\n",
      "│ OMCLag1    ┆ 6468.0   ┆ -0.03888883735312308  ┆ 1.1836882313954      ┆ -26.834             ┆ -0.002               ┆ 14.245              │\n",
      "│ OMCLag2    ┆ 6468.0   ┆ -0.03910636982065553  ┆ 1.1835438453373932   ┆ -26.834             ┆ -0.002               ┆ 14.245              │\n",
      "│ OMCLag3    ┆ 6468.0   ┆ -0.037911719233147775 ┆ 1.1796223602173967   ┆ -26.834             ┆ -0.002               ┆ 14.245              │\n",
      "│ VolumeLag1 ┆ 6468.0   ┆ 376689213.86827457    ┆ 382255309.22855794   ┆ 23234700.0          ┆ 256659200.0          ┆ 7421640800.0        │\n",
      "│ VolumeLag2 ┆ 6468.0   ┆ 376759112.1985158     ┆ 382238776.3871054    ┆ 23234700.0          ┆ 256687200.0          ┆ 7421640800.0        │\n",
      "│ VolumeLag3 ┆ 6468.0   ┆ 376825636.5337044     ┆ 382229005.0420011    ┆ 23234700.0          ┆ 256737600.0          ┆ 7421640800.0        │\n",
      "│ CloseEMA2  ┆ 6468.0   ┆ 46.08167764378479     ┆ 66.00575692489888    ┆ 0.198               ┆ 15.387               ┆ 256.574             │\n",
      "│ CloseEMA4  ┆ 6468.0   ┆ 46.02847387136672     ┆ 65.93281508736574    ┆ 0.201               ┆ 15.35                ┆ 254.548             │\n",
      "│ CloseEMA8  ┆ 6468.0   ┆ 45.92310621521336     ┆ 65.79490709777113    ┆ 0.204               ┆ 15.207               ┆ 251.687             │\n",
      "│ LogReturn  ┆ 6468.0   ┆ 0.0008933905509454164 ┆ 0.025164765055830627 ┆ -0.7312478821694488 ┆ 0.000942017395152806 ┆ 0.14261749350102068 │\n",
      "│ Target     ┆ 6468.0   ┆ 0.5227272727272727    ┆ 0.4995218203482551   ┆ 0.0                 ┆ 1.0                  ┆ 1.0                 │\n",
      "└────────────┴──────────┴───────────────────────┴──────────────────────┴─────────────────────┴──────────────────────┴─────────────────────┘\n"
     ]
    }
   ],
   "source": [
    "# Drop the rows with null values such as the initial lag rows\n",
    "wti = wti.drop_nulls()\n",
    "\n",
    "# Descriptive statistics\n",
    "wtiStatistics = wti.drop('Date').describe()\n",
    "\n",
    "print(wtiStatistics.columns)\n",
    "\n",
    "wtiStatisticsToPrint = wtiStatistics.transpose(include_header=True).drop(['column_1', 'column_5', 'column_7'])\n",
    "\n",
    "print(wtiStatisticsToPrint.schema)\n",
    "\n",
    "with pl.Config(\n",
    "    tbl_rows = 60,\n",
    "    tbl_width_chars = 200,\n",
    "    tbl_cols = -1,\n",
    "    float_precision = 3,\n",
    "    tbl_hide_dataframe_shape = True,\n",
    "    tbl_hide_column_data_types = True):\n",
    "    print(wtiStatisticsToPrint)\n",
    "\n"
   ]
  },
  {
   "cell_type": "markdown",
   "metadata": {},
   "source": [
    "### Feature List\n",
    "Features or explanatory variables, also known as an independent variables, are used to predict the values of target variables. The initial list of featrues includes the price-based features defined above, everything except the continuous response **LogReturn** if we wanted to employ regression and the binary response **Target** for classification, which is the focus of this project. This complete feature list is used in evaluating all methods."
   ]
  },
  {
   "cell_type": "code",
   "execution_count": 23,
   "metadata": {},
   "outputs": [
    {
     "data": {
      "text/html": [
       "<div><style>\n",
       ".dataframe > thead > tr,\n",
       ".dataframe > tbody > tr {\n",
       "  text-align: right;\n",
       "  white-space: pre-wrap;\n",
       "}\n",
       "</style>\n",
       "<small>shape: (5, 15)</small><table border=\"1\" class=\"dataframe\"><thead><tr><th>CloseLag1</th><th>CloseLag2</th><th>CloseLag3</th><th>HMLLag1</th><th>HMLLag2</th><th>HMLLag3</th><th>OMCLag1</th><th>OMCLag2</th><th>OMCLag3</th><th>VolumeLag1</th><th>VolumeLag2</th><th>VolumeLag3</th><th>CloseEMA2</th><th>CloseEMA4</th><th>CloseEMA8</th></tr><tr><td>f64</td><td>f64</td><td>f64</td><td>f64</td><td>f64</td><td>f64</td><td>f64</td><td>f64</td><td>f64</td><td>f64</td><td>f64</td><td>f64</td><td>f64</td><td>f64</td><td>f64</td></tr></thead><tbody><tr><td>0.781</td><td>0.769</td><td>0.84</td><td>0.057</td><td>0.071</td><td>0.081</td><td>-0.002</td><td>0.043</td><td>-0.053</td><td>7.783216e8</td><td>5.123776e8</td><td>5.357968e8</td><td>0.786</td><td>0.79</td><td>0.793</td></tr><tr><td>0.713</td><td>0.781</td><td>0.769</td><td>0.09</td><td>0.057</td><td>0.071</td><td>0.083</td><td>-0.002</td><td>0.043</td><td>7.679728e8</td><td>7.783216e8</td><td>5.123776e8</td><td>0.747</td><td>0.76</td><td>0.768</td></tr><tr><td>0.747</td><td>0.713</td><td>0.781</td><td>0.041</td><td>0.09</td><td>0.057</td><td>-0.023</td><td>0.083</td><td>-0.002</td><td>4.607344e8</td><td>7.679728e8</td><td>7.783216e8</td><td>0.747</td><td>0.755</td><td>0.762</td></tr><tr><td>0.734</td><td>0.747</td><td>0.713</td><td>0.056</td><td>0.041</td><td>0.09</td><td>0.032</td><td>-0.023</td><td>0.083</td><td>5.05064e8</td><td>4.607344e8</td><td>7.679728e8</td><td>0.74</td><td>0.748</td><td>0.755</td></tr><tr><td>0.696</td><td>0.734</td><td>0.747</td><td>0.067</td><td>0.056</td><td>0.041</td><td>0.024</td><td>0.032</td><td>-0.023</td><td>4.415488e8</td><td>5.05064e8</td><td>4.607344e8</td><td>0.718</td><td>0.731</td><td>0.742</td></tr></tbody></table></div>"
      ],
      "text/plain": [
       "shape: (5, 15)\n",
       "┌───────────┬───────────┬───────────┬─────────┬───┬────────────┬───────────┬───────────┬───────────┐\n",
       "│ CloseLag1 ┆ CloseLag2 ┆ CloseLag3 ┆ HMLLag1 ┆ … ┆ VolumeLag3 ┆ CloseEMA2 ┆ CloseEMA4 ┆ CloseEMA8 │\n",
       "│ ---       ┆ ---       ┆ ---       ┆ ---     ┆   ┆ ---        ┆ ---       ┆ ---       ┆ ---       │\n",
       "│ f64       ┆ f64       ┆ f64       ┆ f64     ┆   ┆ f64        ┆ f64       ┆ f64       ┆ f64       │\n",
       "╞═══════════╪═══════════╪═══════════╪═════════╪═══╪════════════╪═══════════╪═══════════╪═══════════╡\n",
       "│ 0.781     ┆ 0.769     ┆ 0.84      ┆ 0.057   ┆ … ┆ 5.357968e8 ┆ 0.786     ┆ 0.79      ┆ 0.793     │\n",
       "│ 0.713     ┆ 0.781     ┆ 0.769     ┆ 0.09    ┆ … ┆ 5.123776e8 ┆ 0.747     ┆ 0.76      ┆ 0.768     │\n",
       "│ 0.747     ┆ 0.713     ┆ 0.781     ┆ 0.041   ┆ … ┆ 7.783216e8 ┆ 0.747     ┆ 0.755     ┆ 0.762     │\n",
       "│ 0.734     ┆ 0.747     ┆ 0.713     ┆ 0.056   ┆ … ┆ 7.679728e8 ┆ 0.74      ┆ 0.748     ┆ 0.755     │\n",
       "│ 0.696     ┆ 0.734     ┆ 0.747     ┆ 0.067   ┆ … ┆ 4.607344e8 ┆ 0.718     ┆ 0.731     ┆ 0.742     │\n",
       "└───────────┴───────────┴───────────┴─────────┴───┴────────────┴───────────┴───────────┴───────────┘"
      ]
     },
     "execution_count": 23,
     "metadata": {},
     "output_type": "execute_result"
    }
   ],
   "source": [
    "# Select Features for the Model, exclude current day price variables ... no \"leakage\"\n",
    "# note for moving averages, we have excluded the current day, and provide a 10-day gap\n",
    "# so these may be included in the set \n",
    "X = wti.drop(['Date', 'LogReturn', 'Target', 'Open', 'High', 'Low', 'Close', 'Volume', 'HML', 'OMC'])\n",
    "X.head()"
   ]
  },
  {
   "cell_type": "markdown",
   "metadata": {},
   "source": [
    "### Examine the Distribution of LogReturn Values"
   ]
  },
  {
   "cell_type": "code",
   "execution_count": 24,
   "metadata": {},
   "outputs": [
    {
     "name": "stdout",
     "output_type": "stream",
     "text": [
      "shape: (9, 2)\n",
      "┌────────────┬───────────┐\n",
      "│ statistic  ┆ value     │\n",
      "│ ---        ┆ ---       │\n",
      "│ str        ┆ f64       │\n",
      "╞════════════╪═══════════╡\n",
      "│ count      ┆ 6468.0    │\n",
      "│ null_count ┆ 0.0       │\n",
      "│ mean       ┆ 0.000893  │\n",
      "│ std        ┆ 0.025165  │\n",
      "│ min        ┆ -0.731248 │\n",
      "│ 25%        ┆ -0.009849 │\n",
      "│ 50%        ┆ 0.000942  │\n",
      "│ 75%        ┆ 0.012469  │\n",
      "│ max        ┆ 0.142617  │\n",
      "└────────────┴───────────┘\n"
     ]
    }
   ],
   "source": [
    "# Define and examine the target for regression model development\n",
    "print(wti['LogReturn'].describe())\n",
    "\n",
    "y = np.array(wti['LogReturn'])\n"
   ]
  },
  {
   "cell_type": "markdown",
   "metadata": {},
   "source": [
    "### Standardize All Features\n",
    "Standardization is carried out for the complete set of features."
   ]
  },
  {
   "cell_type": "code",
   "execution_count": 25,
   "metadata": {},
   "outputs": [
    {
     "name": "stdout",
     "output_type": "stream",
     "text": [
      "Feature names correspond to Numpy array columns: ['CloseLag1', 'CloseLag2', 'CloseLag3', 'HMLLag1', 'HMLLag2', 'HMLLag3', 'OMCLag1', 'OMCLag2', 'OMCLag3', 'VolumeLag1', 'VolumeLag2', 'VolumeLag3', 'CloseEMA2', 'CloseEMA4', 'CloseEMA8']\n"
     ]
    }
   ],
   "source": [
    "# Standardize features\n",
    "featureNames = X.columns\n",
    "print(\"Feature names correspond to Numpy array columns:\",featureNames)\n",
    "scaler = StandardScaler()\n",
    "X = scaler.fit_transform(np.array(X))"
   ]
  },
  {
   "cell_type": "markdown",
   "metadata": {},
   "source": [
    "### Target Definition for Classification (Target)\n",
    "\n",
    "Identify the binary target variable for model development."
   ]
  },
  {
   "cell_type": "code",
   "execution_count": 26,
   "metadata": {},
   "outputs": [
    {
     "name": "stdout",
     "output_type": "stream",
     "text": [
      "shape: (2, 2)\n",
      "┌────────┬───────┐\n",
      "│ Target ┆ count │\n",
      "│ ---    ┆ ---   │\n",
      "│ i32    ┆ u32   │\n",
      "╞════════╪═══════╡\n",
      "│ 0      ┆ 3087  │\n",
      "│ 1      ┆ 3381  │\n",
      "└────────┴───────┘\n"
     ]
    }
   ],
   "source": [
    "# Define and examine the target for classification model development\n",
    "print(wti['Target'].value_counts())\n",
    "\n",
    "y = np.array(wti['Target'])"
   ]
  },
  {
   "cell_type": "markdown",
   "metadata": {},
   "source": [
    "### Feature Selection Using All Possible Classifications \n",
    "We draw on traditional applied statistis, selecting the best combination of features using the Akaike Information Criterion (AIC). "
   ]
  },
  {
   "cell_type": "code",
   "execution_count": 29,
   "metadata": {},
   "outputs": [
    {
     "name": "stderr",
     "output_type": "stream",
     "text": [
      "[Parallel(n_jobs=-1)]: Using backend LokyBackend with 11 concurrent workers.\n",
      "[Parallel(n_jobs=-1)]: Batch computation too fast (0.013453006744384766s.) Setting batch_size=2.\n",
      "[Parallel(n_jobs=-1)]: Done   3 tasks      | elapsed:    0.0s\n",
      "[Parallel(n_jobs=-1)]: Done  10 tasks      | elapsed:    0.0s\n",
      "[Parallel(n_jobs=-1)]: Done  19 tasks      | elapsed:    0.1s\n",
      "[Parallel(n_jobs=-1)]: Batch computation too fast (0.05161905288696289s.) Setting batch_size=4.\n",
      "[Parallel(n_jobs=-1)]: Done  34 tasks      | elapsed:    0.1s\n",
      "[Parallel(n_jobs=-1)]: Done  56 tasks      | elapsed:    0.1s\n",
      "[Parallel(n_jobs=-1)]: Batch computation too fast (0.07933998107910156s.) Setting batch_size=8.\n",
      "[Parallel(n_jobs=-1)]: Done  90 tasks      | elapsed:    0.2s\n",
      "[Parallel(n_jobs=-1)]: Done 142 tasks      | elapsed:    0.2s\n",
      "[Parallel(n_jobs=-1)]: Batch computation too fast (0.13192105293273926s.) Setting batch_size=16.\n",
      "[Parallel(n_jobs=-1)]: Done 234 tasks      | elapsed:    0.4s\n",
      "[Parallel(n_jobs=-1)]: Done 378 tasks      | elapsed:    0.5s\n",
      "[Parallel(n_jobs=-1)]: Done 618 tasks      | elapsed:    0.7s\n",
      "[Parallel(n_jobs=-1)]: Done 890 tasks      | elapsed:    0.9s\n",
      "[Parallel(n_jobs=-1)]: Done 1162 tasks      | elapsed:    1.1s\n",
      "[Parallel(n_jobs=-1)]: Done 1466 tasks      | elapsed:    1.4s\n",
      "[Parallel(n_jobs=-1)]: Done 1770 tasks      | elapsed:    1.7s\n",
      "[Parallel(n_jobs=-1)]: Done 2106 tasks      | elapsed:    1.9s\n",
      "[Parallel(n_jobs=-1)]: Done 2442 tasks      | elapsed:    2.1s\n",
      "[Parallel(n_jobs=-1)]: Done 2810 tasks      | elapsed:    2.5s\n",
      "[Parallel(n_jobs=-1)]: Done 3178 tasks      | elapsed:    2.8s\n",
      "[Parallel(n_jobs=-1)]: Done 3578 tasks      | elapsed:    3.3s\n",
      "[Parallel(n_jobs=-1)]: Done 3978 tasks      | elapsed:    3.6s\n",
      "[Parallel(n_jobs=-1)]: Done 4410 tasks      | elapsed:    4.0s\n",
      "[Parallel(n_jobs=-1)]: Done 4842 tasks      | elapsed:    4.4s\n",
      "[Parallel(n_jobs=-1)]: Done 5306 tasks      | elapsed:    4.8s\n",
      "[Parallel(n_jobs=-1)]: Done 5770 tasks      | elapsed:    5.3s\n",
      "[Parallel(n_jobs=-1)]: Done 6266 tasks      | elapsed:    5.7s\n",
      "[Parallel(n_jobs=-1)]: Done 6762 tasks      | elapsed:    6.2s\n",
      "[Parallel(n_jobs=-1)]: Done 7290 tasks      | elapsed:    6.7s\n",
      "[Parallel(n_jobs=-1)]: Done 7818 tasks      | elapsed:    7.3s\n",
      "[Parallel(n_jobs=-1)]: Done 8378 tasks      | elapsed:    7.8s\n",
      "[Parallel(n_jobs=-1)]: Done 8938 tasks      | elapsed:    8.3s\n",
      "[Parallel(n_jobs=-1)]: Done 9530 tasks      | elapsed:    9.0s\n",
      "[Parallel(n_jobs=-1)]: Done 10122 tasks      | elapsed:    9.6s\n",
      "[Parallel(n_jobs=-1)]: Done 10746 tasks      | elapsed:   10.2s\n",
      "[Parallel(n_jobs=-1)]: Done 11370 tasks      | elapsed:   10.9s\n",
      "[Parallel(n_jobs=-1)]: Done 12026 tasks      | elapsed:   11.6s\n",
      "[Parallel(n_jobs=-1)]: Done 12682 tasks      | elapsed:   12.2s\n",
      "[Parallel(n_jobs=-1)]: Done 13370 tasks      | elapsed:   12.9s\n",
      "[Parallel(n_jobs=-1)]: Done 14058 tasks      | elapsed:   13.7s\n",
      "[Parallel(n_jobs=-1)]: Done 14778 tasks      | elapsed:   14.4s\n",
      "[Parallel(n_jobs=-1)]: Done 15498 tasks      | elapsed:   15.2s\n",
      "[Parallel(n_jobs=-1)]: Done 16250 tasks      | elapsed:   16.0s\n",
      "[Parallel(n_jobs=-1)]: Done 17002 tasks      | elapsed:   16.8s\n",
      "[Parallel(n_jobs=-1)]: Done 17786 tasks      | elapsed:   17.5s\n",
      "[Parallel(n_jobs=-1)]: Done 18570 tasks      | elapsed:   18.4s\n",
      "[Parallel(n_jobs=-1)]: Done 19386 tasks      | elapsed:   19.1s\n",
      "[Parallel(n_jobs=-1)]: Done 20202 tasks      | elapsed:   19.9s\n",
      "[Parallel(n_jobs=-1)]: Done 21050 tasks      | elapsed:   20.8s\n",
      "[Parallel(n_jobs=-1)]: Done 21898 tasks      | elapsed:   21.6s\n",
      "[Parallel(n_jobs=-1)]: Done 22778 tasks      | elapsed:   22.4s\n",
      "[Parallel(n_jobs=-1)]: Done 23658 tasks      | elapsed:   23.3s\n",
      "[Parallel(n_jobs=-1)]: Done 24570 tasks      | elapsed:   24.4s\n",
      "[Parallel(n_jobs=-1)]: Done 25482 tasks      | elapsed:   25.3s\n",
      "[Parallel(n_jobs=-1)]: Done 26426 tasks      | elapsed:   26.3s\n",
      "[Parallel(n_jobs=-1)]: Done 27370 tasks      | elapsed:   27.5s\n",
      "[Parallel(n_jobs=-1)]: Done 28346 tasks      | elapsed:   29.0s\n",
      "[Parallel(n_jobs=-1)]: Done 29322 tasks      | elapsed:   30.4s\n",
      "[Parallel(n_jobs=-1)]: Done 30330 tasks      | elapsed:   31.8s\n",
      "[Parallel(n_jobs=-1)]: Done 31338 tasks      | elapsed:   32.9s\n",
      "[Parallel(n_jobs=-1)]: Done 32378 tasks      | elapsed:   33.9s\n"
     ]
    },
    {
     "name": "stdout",
     "output_type": "stream",
     "text": [
      "shape: (10, 3)\n",
      "┌─────────────┬──────────┬─────────────┐\n",
      "│ trialNumber ┆ features ┆ aic         │\n",
      "│ ---         ┆ ---      ┆ ---         │\n",
      "│ i64         ┆ str      ┆ f64         │\n",
      "╞═════════════╪══════════╪═════════════╡\n",
      "│ 11          ┆ 10       ┆ 8955.399987 │\n",
      "│ 12          ┆ 11       ┆ 8956.353574 │\n",
      "│ 5           ┆ 4        ┆ 8956.514125 │\n",
      "│ 6           ┆ 5        ┆ 8956.541921 │\n",
      "│ 10          ┆ 9        ┆ 8956.569659 │\n",
      "│ 15          ┆ 14       ┆ 8956.610835 │\n",
      "│ 14          ┆ 13       ┆ 8956.61896  │\n",
      "│ 13          ┆ 12       ┆ 8956.624773 │\n",
      "│ 2           ┆ 1        ┆ 8956.62516  │\n",
      "│ 1           ┆ 0        ┆ 8956.627095 │\n",
      "└─────────────┴──────────┴─────────────┘\n"
     ]
    },
    {
     "name": "stderr",
     "output_type": "stream",
     "text": [
      "[Parallel(n_jobs=-1)]: Done 32767 out of 32767 | elapsed:   34.4s finished\n"
     ]
    }
   ],
   "source": [
    "import numpy as np\n",
    "from itertools import chain, combinations\n",
    "from joblib import Parallel, delayed\n",
    "from sklearn.linear_model import LogisticRegression\n",
    "from sklearn.metrics import log_loss\n",
    "import polars as pl\n",
    "\n",
    "# Ensure dense, contiguous arrays once\n",
    "X_np = np.asarray(X, dtype=np.float64, order=\"C\")\n",
    "y_np = np.asarray(y, dtype=np.int32)\n",
    "\n",
    "# fast AIC helper (no DF ops inside)\n",
    "def aic_for_cols(cols):\n",
    "    if len(cols) == 0:\n",
    "        return None\n",
    "    Xc = X_np[:, cols]                 # advanced indexing copy is fine here\n",
    "    model = LogisticRegression(solver=\"lbfgs\", max_iter=500)  # stable & fast for binary\n",
    "    model.fit(Xc, y_np)\n",
    "    ll = -log_loss(y_np, model.predict_proba(Xc)) * len(y_np)\n",
    "    k  = Xc.shape[1] + 1\n",
    "    return (cols, 2*k - 2*ll)\n",
    "\n",
    "# generator for all non-empty subsets\n",
    "def powerset_indices(n):\n",
    "    s = list(range(n))\n",
    "    return chain.from_iterable(combinations(s, r) for r in range(1, n+1))\n",
    "\n",
    "subs_iter = list(powerset_indices(X_np.shape[1]))  # if this is too big, see option B below\n",
    "\n",
    "# parallel compute (adjust n_jobs as you like)\n",
    "results = Parallel(n_jobs=-1, backend=\"loky\", verbose=10)(\n",
    "    delayed(aic_for_cols)(tuple(cols)) for cols in subs_iter\n",
    ")\n",
    "\n",
    "# add dynamic \"all features\" row (in case you didn’t already include it)\n",
    "all_cols = tuple(range(X_np.shape[1]))\n",
    "if all_cols not in subs_iter:\n",
    "    results.append(aic_for_cols(all_cols))\n",
    "\n",
    "# build ONE Polars DF at the end (no per-iter concat)\n",
    "rows = []\n",
    "trial = 0\n",
    "for res in results:\n",
    "    if res is None:\n",
    "        continue\n",
    "    cols, aic = res\n",
    "    trial += 1\n",
    "    rows.append((trial, \" \".join(map(str, cols)), float(aic)))\n",
    "\n",
    "resultsDataFrame = pl.DataFrame(rows, schema={\"trialNumber\": pl.Int64,\n",
    "                                              \"features\": pl.String,\n",
    "                                              \"aic\": pl.Float64})\n",
    "\n",
    "# inspect top-10\n",
    "print(resultsDataFrame.sort(\"aic\").head(10))\n"
   ]
  },
  {
   "cell_type": "code",
   "execution_count": 30,
   "metadata": {},
   "outputs": [
    {
     "name": "stdout",
     "output_type": "stream",
     "text": [
      "shape: (10, 3)\n",
      "┌─────────────┬──────────┬─────────────┐\n",
      "│ trialNumber ┆ features ┆ aic         │\n",
      "│ ---         ┆ ---      ┆ ---         │\n",
      "│ i64         ┆ str      ┆ f64         │\n",
      "╞═════════════╪══════════╪═════════════╡\n",
      "│ 11          ┆ 10       ┆ 8955.399987 │\n",
      "│ 12          ┆ 11       ┆ 8956.353574 │\n",
      "│ 5           ┆ 4        ┆ 8956.514125 │\n",
      "│ 6           ┆ 5        ┆ 8956.541921 │\n",
      "│ 10          ┆ 9        ┆ 8956.569659 │\n",
      "│ 15          ┆ 14       ┆ 8956.610835 │\n",
      "│ 14          ┆ 13       ┆ 8956.61896  │\n",
      "│ 13          ┆ 12       ┆ 8956.624773 │\n",
      "│ 2           ┆ 1        ┆ 8956.62516  │\n",
      "│ 1           ┆ 0        ┆ 8956.627095 │\n",
      "└─────────────┴──────────┴─────────────┘\n"
     ]
    }
   ],
   "source": [
    "print(resultsDataFrame.sort('aic').head(10))"
   ]
  },
  {
   "cell_type": "markdown",
   "metadata": {},
   "source": [
    "### Selected Feature Subset\n",
    "Reviewing the ten lowest *AIC* models, we selected five features for subsequent model development:\n",
    "- **CloseLag3** Lag-three daily closing price\n",
    "- **HMLLag1** Lag-one high minus low daily prices\n",
    "- **OMCLag2** Lag-two open minus closing daily prices\n",
    "- **OMCLag3** Lag-three open minus closing daily prices\n",
    "- **CloseEMA8** Exponential moving average across eight days"
   ]
  },
  {
   "cell_type": "code",
   "execution_count": 31,
   "metadata": {},
   "outputs": [
    {
     "name": "stdout",
     "output_type": "stream",
     "text": [
      "shape: (7, 7)\n",
      "┌───────────┬───────────┬───────────┬───────────┬───────────┬───────────┬───────────┐\n",
      "│ LogReturn ┆ CloseLag1 ┆ CloseLag3 ┆ HMLLag1   ┆ OMCLag2   ┆ OMCLag3   ┆ CloseEMA8 │\n",
      "│ ---       ┆ ---       ┆ ---       ┆ ---       ┆ ---       ┆ ---       ┆ ---       │\n",
      "│ f64       ┆ f64       ┆ f64       ┆ f64       ┆ f64       ┆ f64       ┆ f64       │\n",
      "╞═══════════╪═══════════╪═══════════╪═══════════╪═══════════╪═══════════╪═══════════╡\n",
      "│ 1.0       ┆ -0.006138 ┆ -0.00615  ┆ -0.009083 ┆ -0.011379 ┆ 0.01737   ┆ -0.005745 │\n",
      "│ -0.006138 ┆ 1.0       ┆ 0.999516  ┆ 0.818418  ┆ -0.07085  ┆ -0.068977 ┆ 0.999471  │\n",
      "│ -0.00615  ┆ 0.999516  ┆ 1.0       ┆ 0.820196  ┆ -0.054699 ┆ -0.068473 ┆ 0.999705  │\n",
      "│ -0.009083 ┆ 0.818418  ┆ 0.820196  ┆ 1.0       ┆ -0.026099 ┆ -0.014652 ┆ 0.823418  │\n",
      "│ -0.011379 ┆ -0.07085  ┆ -0.054699 ┆ -0.026099 ┆ 1.0       ┆ -0.035226 ┆ -0.060613 │\n",
      "│ 0.01737   ┆ -0.068977 ┆ -0.068473 ┆ -0.014652 ┆ -0.035226 ┆ 1.0       ┆ -0.059609 │\n",
      "│ -0.005745 ┆ 0.999471  ┆ 0.999705  ┆ 0.823418  ┆ -0.060613 ┆ -0.059609 ┆ 1.0       │\n",
      "└───────────┴───────────┴───────────┴───────────┴───────────┴───────────┴───────────┘\n"
     ]
    },
    {
     "data": {
      "image/png": "[encoded data removed]",
      "text/plain": [
       "<Figure size 640x480 with 2 Axes>"
      ]
     },
     "metadata": {},
     "output_type": "display_data"
    }
   ],
   "source": [
    "# examine relationships among five selected features, along with LogReturn and CloseLag1\n",
    "XStudy = wti.select('LogReturn','CloseLag1','CloseLag3','HMLLag1','OMCLag2','OMCLag3','CloseEMA8')\n",
    "\n",
    "# prepare correlation heat map using seaborn\n",
    "corrMatrix = XStudy.corr()\n",
    "print(corrMatrix)\n",
    "sns.heatmap(corrMatrix, cmap='coolwarm', annot=True)\n",
    "plt.show()"
   ]
  },
  {
   "cell_type": "code",
   "execution_count": 32,
   "metadata": {},
   "outputs": [],
   "source": [
    "# select subset of five columns as features\n",
    "X = wti.select('CloseLag3','HMLLag1','OMCLag2','OMCLag3','CloseEMA8')"
   ]
  },
  {
   "cell_type": "markdown",
   "metadata": {},
   "source": [
    "### Define Cross-Validation Training and Test Sets\n",
    "Recognizing that time series observations are not independent observations, we use Scikit-Learn [TimeSeriesSplit](https://scikit-learn.org/stable/modules/generated/sklearn.model_selection.TimeSeriesSplit.html) for cross-validation. \n",
    "\n",
    "This cross-validation object is a variation of multi-fold cross-validation for independent observations. In the kth split, it returns first k folds as train set and the (k+1)th fold as test set.\n",
    "\n",
    "Unlike cross-validation for independent observations, however, successive training sets are supersets of those that come before them. A listing of observation index numbers shows what this means for the time series market data in this demonstration.\n"
   ]
  },
  {
   "cell_type": "code",
   "execution_count": 33,
   "metadata": {},
   "outputs": [
    {
     "name": "stdout",
     "output_type": "stream",
     "text": [
      "type(all_splits): <class 'list'>  outer list length 5\n",
      "\n",
      "train_0 has 1068 with indices from  0 to 1067\n",
      "test_0 has 1078 with indices from  1078 to 2155\n",
      "\n",
      "train_1 has 2146 with indices from  0 to 2145\n",
      "test_1 has 1078 with indices from  2156 to 3233\n",
      "\n",
      "train_2 has 3224 with indices from  0 to 3223\n",
      "test_2 has 1078 with indices from  3234 to 4311\n",
      "\n",
      "train_3 has 4302 with indices from  0 to 4301\n",
      "test_3 has 1078 with indices from  4312 to 5389\n",
      "\n",
      "train_4 has 5380 with indices from  0 to 5379\n",
      "test_4 has 1078 with indices from  5390 to 6467\n"
     ]
    }
   ],
   "source": [
    "# Splitting the datasets into train and test sets\n",
    "# gap is the number of samples to exclude from \n",
    "# the end of each train set and before the next test set.\n",
    "tscv = TimeSeriesSplit(gap=10, n_splits=5)\n",
    "\n",
    "all_splits = list(tscv.split(X, y))\n",
    "train_0, test_0 = all_splits[0]\n",
    "train_1, test_1 = all_splits[1]\n",
    "train_2, test_2 = all_splits[2]\n",
    "train_3, test_3 = all_splits[3]\n",
    "train_4, test_4 = all_splits[4]\n",
    "\n",
    "# examine the objects created for cross-validation splits\n",
    "print(\"type(all_splits):\", type(all_splits), \" outer list length\", len(all_splits))\n",
    "print()\n",
    "print(\"train_0 has\",len(train_0),\"with indices from \",min(train_0),\"to\",max(train_0))\n",
    "print(\"test_0 has\",len(test_0),\"with indices from \",min(test_0),\"to\",max(test_0))\n",
    "print()\n",
    "print(\"train_1 has\",len(train_1),\"with indices from \",min(train_1),\"to\",max(train_1))\n",
    "print(\"test_1 has\",len(test_1),\"with indices from \",min(test_1),\"to\",max(test_1))\n",
    "print()\n",
    "print(\"train_2 has\",len(train_2),\"with indices from \",min(train_2),\"to\",max(train_2))\n",
    "print(\"test_2 has\",len(test_2),\"with indices from \",min(test_2),\"to\",max(test_2))\n",
    "print()\n",
    "print(\"train_3 has\",len(train_3),\"with indices from \",min(train_3),\"to\",max(train_3))\n",
    "print(\"test_3 has\",len(test_3),\"with indices from \",min(test_3),\"to\",max(test_3))\n",
    "print()\n",
    "print(\"train_4 has\",len(train_4),\"with indices from \",min(train_4),\"to\",max(train_4))\n",
    "print(\"test_4 has\",len(test_4),\"with indices from \",min(test_4),\"to\",max(test_4))\n",
    "\n",
    "# to see all indices we can uncomment these statements\n",
    "# print(\"elements of all_splits list of lists,\\n shows index numbers for each the five lists\")\n",
    "# print(all_splits)"
   ]
  },
  {
   "cell_type": "markdown",
   "metadata": {},
   "source": [
    "### Define an Initial Classification Model to Be Evaluated¶\n",
    "We again select gradient boosting from the XGBoost package, this time defining a classification model to be evaluated. Hyperparameters are retained at defauld settings, except for n_estimators."
   ]
  },
  {
   "cell_type": "code",
   "execution_count": 34,
   "metadata": {},
   "outputs": [],
   "source": [
    "model = XGBClassifier(objective='binary:logistic', n_estimators=1000, random_state=2025)"
   ]
  },
  {
   "cell_type": "markdown",
   "metadata": {},
   "source": [
    "### Evaluate a Classification Model Within the Time Series Cross-Validation Design\n",
    "Prior to executing a full-blown search for the \"best\" classification model, we test the cross-validation design on a binary classification model, revising code provided in online documentation for Scikit-Learn: [Time-related feature engineerng](https://scikit-learn.org/stable/auto_examples/applications/plot_cyclical_feature_engineering.html#sphx-glr-auto-examples-applications-plot-cyclical-feature-engineering-py). In particular, we define appropriate metrics for assessing classification performance."
   ]
  },
  {
   "cell_type": "code",
   "execution_count": 35,
   "metadata": {},
   "outputs": [
    {
     "name": "stdout",
     "output_type": "stream",
     "text": [
      "Mean model.n_estimators = 1000.0\n"
     ]
    },
    {
     "data": {
      "text/plain": [
       "(0.487569573283859, 0.015933885382993597)"
      ]
     },
     "execution_count": 35,
     "metadata": {},
     "output_type": "execute_result"
    }
   ],
   "source": [
    "def evaluate(model, X, y, cv, model_prop=None, model_step=None):\n",
    "    cv_results = cross_validate(\n",
    "        model,\n",
    "        X,\n",
    "        y,\n",
    "        cv=cv,\n",
    "        scoring=[\"accuracy\"],\n",
    "        return_estimator=model_prop is not None,\n",
    "    )\n",
    "    if model_prop is not None:\n",
    "        if model_step is not None:\n",
    "            values = [\n",
    "                getattr(m[model_step], model_prop) for m in cv_results[\"estimator\"]\n",
    "            ]\n",
    "        else:\n",
    "            values = [getattr(m, model_prop) for m in cv_results[\"estimator\"]]\n",
    "        print(f\"Mean model.{model_prop} = {np.mean(values)}\")\n",
    "    accuracy = -cv_results[\"test_accuracy\"]\n",
    "\n",
    "    # print used in earlier testing\n",
    "    # print(\n",
    "    #    f\"Mean Accuracy:     {-accuracy.mean():.3f} +/- {accuracy.std():.3f}\\n\"\n",
    "    # )\n",
    "    return (-accuracy.mean(), accuracy.std())\n",
    "    \n",
    "evaluate(model, X, y, cv=tscv, model_prop=\"n_estimators\")\n",
    "\n"
   ]
  },
  {
   "cell_type": "code",
   "execution_count": 36,
   "metadata": {},
   "outputs": [
    {
     "name": "stdout",
     "output_type": "stream",
     "text": [
      "Mean model.n_estimators = 1000.0\n",
      "Mean Accuracy:     0.488 +/- 0.016\n",
      "\n"
     ]
    }
   ],
   "source": [
    "# print results from evaluate\n",
    "accuracyMean, accuracyStd = evaluate(model, X, y, cv=tscv, model_prop=\"n_estimators\")\n",
    "print(\n",
    "        f\"Mean Accuracy:     {accuracyMean:.3f} +/- {accuracyStd:.3f}\\n\"\n",
    "     )"
   ]
  },
  {
   "cell_type": "markdown",
   "metadata": {},
   "source": [
    "### Randomized Search for Hyperparameter Settings\n",
    "We search for effective values on five XGBoost hyperparameters: **max_depth**, **min_child_weight**, **subsample**, **learning_rate**, and **n_estimators**."
   ]
  },
  {
   "cell_type": "code",
   "execution_count": 38,
   "metadata": {},
   "outputs": [
    {
     "name": "stdout",
     "output_type": "stream",
     "text": [
      "Best parameters: {'learning_rate': 0.08964522558051516, 'max_depth': 6, 'min_child_weight': 5, 'n_estimators': 881, 'subsample': 0.8014120643245294}\n",
      "Best score: 0.4920222634508349\n"
     ]
    }
   ],
   "source": [
    "# Randomized search to find the best set of hyperparameters\n",
    "\n",
    "param_dist = {\n",
    "    'max_depth': randint(3, 10),\n",
    "    'min_child_weight': randint(1, 10),\n",
    "    'subsample': uniform(0.5, 1),\n",
    "    'learning_rate': uniform(0.01, 0.1),\n",
    "    'n_estimators': randint(100, 1000),\n",
    "}\n",
    "xgb_model = xgb.XGBClassifier(objective='binary:logistic', eval_metric='logloss', random_state=2025)\n",
    "\n",
    "random_search = RandomizedSearchCV(\n",
    "    estimator=xgb_model,\n",
    "    param_distributions=param_dist,\n",
    "    n_iter=100, # Number of parameter settings that are sampled.\n",
    "    scoring='accuracy',\n",
    "    cv = TimeSeriesSplit(gap=10, n_splits=5),\n",
    "    random_state=2025,\n",
    "    n_jobs=-1 # Use all available cores\n",
    ")\n",
    "\n",
    "random_search.fit(X, y)\n",
    "\n",
    "print(\"Best parameters:\", random_search.best_params_)\n",
    "print(\"Best score:\", random_search.best_score_)"
   ]
  },
  {
   "cell_type": "markdown",
   "metadata": {},
   "source": [
    "### Evaluate the Model\n",
    "We define define an XGBoost subset model with these hyperparameter values and evaluate on the full data set."
   ]
  },
  {
   "cell_type": "code",
   "execution_count": 39,
   "metadata": {},
   "outputs": [
    {
     "data": {
      "text/plain": [
       "<sklearn.metrics._plot.roc_curve.RocCurveDisplay at 0x2feef1280>"
      ]
     },
     "execution_count": 39,
     "metadata": {},
     "output_type": "execute_result"
    }
   ],
   "source": [
    "# final model evaluation\n",
    "finalModel = XGBClassifier(objective='binary:logistic', eval_metric='logloss', random_state=2025,\n",
    "                          max_depth = 9, min_child_weight = 9, subsample = 0.50, learning_rate = 0.09, n_estimators = 273)\n",
    "\n",
    "finalModel.fit(X, y)\n",
    "ypred = finalModel.predict(X)\n",
    "RocCurveDisplay.from_predictions(y, ypred)\n",
    "                    "
   ]
  },
  {
   "cell_type": "code",
   "execution_count": 40,
   "metadata": {},
   "outputs": [
    {
     "name": "stdout",
     "output_type": "stream",
     "text": [
      "Confusion Matrix\n",
      "[[2337  750]\n",
      " [ 570 2811]]\n"
     ]
    },
    {
     "data": {
      "image/png": "[encoded data removed]",
      "text/plain": [
       "<Figure size 640x480 with 1 Axes>"
      ]
     },
     "metadata": {},
     "output_type": "display_data"
    },
    {
     "data": {
      "image/png": "[encoded data removed]",
      "text/plain": [
       "<Figure size 640x480 with 2 Axes>"
      ]
     },
     "metadata": {},
     "output_type": "display_data"
    }
   ],
   "source": [
    "print(\"Confusion Matrix\")\n",
    "print(confusion_matrix(y, ypred))\n",
    "disp = ConfusionMatrixDisplay.from_predictions(y, ypred,\n",
    "                              display_labels =[\"Negative Return\",\"Positive Return\"],\n",
    "                                              cmap = plt.cm.Blues)\n",
    "plt.title(\"Confusion Matrix for Returns\")\n",
    "plt.xlabel(\"Predicted Return\")\n",
    "plt.ylabel(\"Actual Return\")\n",
    "plt.tight_layout()\n",
    "plt.show()                              "
   ]
  },
  {
   "cell_type": "code",
   "execution_count": 41,
   "metadata": {},
   "outputs": [
    {
     "name": "stdout",
     "output_type": "stream",
     "text": [
      "              precision    recall  f1-score   support\n",
      "\n",
      "           0       0.80      0.76      0.78      3087\n",
      "           1       0.79      0.83      0.81      3381\n",
      "\n",
      "   micro avg       0.80      0.80      0.80      6468\n",
      "   macro avg       0.80      0.79      0.79      6468\n",
      "weighted avg       0.80      0.80      0.80      6468\n",
      "\n"
     ]
    }
   ],
   "source": [
    "print(classification_report(y, ypred, labels = [\"0\",\"1\"]))"
   ]
  },
  {
   "cell_type": "markdown",
   "metadata": {},
   "source": [
    "## References\n",
    "\n",
    "* [yfinance GitHub](https://github.com/ranaroussi/yfinance)\n",
    "* [yfinance Documentation](https://ranaroussi.github.io/yfinance/)\n",
    "* [Polars Online User Guide](https://docs.pola.rs/)\n",
    "* [Build Polars Database](https://www.pyquantnews.com/free-python-resources/build-stock-database-locally-with-polars)\n",
    "* [YouTube. Polars and Time Series: What It Can Do, and How to Overcome Any Limitation](https://www.youtube.com/watch?v=qz-zAHBz6Ks)\n",
    "* [Awesome Quant: Python for Quantiative Finance](https://wilsonfreitas.github.io/awesome-quant/)\n",
    "* [Cross-validation](https://scikit-learn.org/stable/modules/cross_validation.html)\n",
    "* [TimeSeriesSplit](https://scikit-learn.org/stable/modules/generated/sklearn.model_selection.TimeSeriesSplit.html)\n",
    "* [RandomizedSearchCV](https://scikit-learn.org/stable/modules/generated/sklearn.model_selection.RandomizedSearchCV.html)\n",
    "* [Hyperparameter Tuning](https://scikit-learn.org/stable/modules/grid_search.html#grid-search)\n",
    "* [Metrics and Scoring](https://scikit-learn.org/stable/modules/model_evaluation.html#scoring-parameter)\n",
    "* [Introduction to Boosted Trees](https://xgboost.readthedocs.io/en/latest/tutorials/model.html)\n",
    "* [XGBoost documentation](https://xgboost.readthedocs.io/en/latest/index.html)\n",
    "* [XGBoost in Python documentation](https://xgboost-clone.readthedocs.io/en/latest/python/python_intro.html)\n",
    "* [Auto-Sklearn for AutoML in an Scikit-Learn Environment](https://www.automl.org/automl-for-x/tabular-data/auto-sklearn/)."
   ]
  },
  {
   "cell_type": "code",
   "execution_count": null,
   "metadata": {},
   "outputs": [],
   "source": []
  }
 ],
 "metadata": {
  "kernelspec": {
   "display_name": "Python 3 (ipykernel)",
   "language": "python",
   "name": "python3"
  },
  "language_info": {
   "codemirror_mode": {
    "name": "ipython",
    "version": 3
   },
   "file_extension": ".py",
   "mimetype": "text/x-python",
   "name": "python",
   "nbconvert_exporter": "python",
   "pygments_lexer": "ipython3",
   "version": "3.12.2"
  },
  "nbTranslate": {
   "displayLangs": [
    "*"
   ],
   "hotkey": "alt-t",
   "langInMainMenu": true,
   "sourceLang": "en",
   "targetLang": "fr",
   "useGoogleTranslate": true
  },
  "toc": {
   "base_numbering": 1,
   "nav_menu": {},
   "number_sections": true,
   "sideBar": true,
   "skip_h1_title": true,
   "title_cell": "Table of Contents",
   "title_sidebar": "Contents",
   "toc_cell": false,
   "toc_position": {
    "height": "calc(100% - 180px)",
    "left": "10px",
    "top": "150px",
    "width": "341.331543px"
   },
   "toc_section_display": true,
   "toc_window_display": false
  },
  "toc-autonumbering": false,
  "toc-showtags": false,
  "varInspector": {
   "cols": {
    "lenName": 16,
    "lenType": 16,
    "lenVar": 40
   },
   "kernels_config": {
    "python": {
     "delete_cmd_postfix": "",
     "delete_cmd_prefix": "del ",
     "library": "var_list.py",
     "varRefreshCmd": "print(var_dic_list())"
    },
    "r": {
     "delete_cmd_postfix": ") ",
     "delete_cmd_prefix": "rm(",
     "library": "var_list.r",
     "varRefreshCmd": "cat(var_dic_list()) "
    }
   },
   "types_to_exclude": [
    "module",
    "function",
    "builtin_function_or_method",
    "instance",
    "_Feature"
   ],
   "window_display": false
  }
 },
 "nbformat": 4,
 "nbformat_minor": 4
}
