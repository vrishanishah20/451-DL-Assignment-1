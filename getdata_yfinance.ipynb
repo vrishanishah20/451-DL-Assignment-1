{
 "cells": [
  {
   "cell_type": "markdown",
   "id": "32f211dd-8480-49a2-8d34-d7a183c9aa90",
   "metadata": {},
   "source": [
    "# <span style=\"color:#4E2A84;\"> MSDS Financial Engineering: Get Data from Yahoo! Finance"
   ]
  },
  {
   "cell_type": "markdown",
   "id": "52b47f40-e95c-424e-a2e1-c0b2e45d7b84",
   "metadata": {},
   "source": [
    "## Overview"
   ]
  },
  {
   "cell_type": "markdown",
   "id": "a8d2df6a-0c26-4d28-940e-921328448a6f",
   "metadata": {},
   "source": [
    "Financial time series data can be retrieved using the Python package yfinance, which interacts with the Yahoo! Finance application programming interface (API). These are public-domain data showing historical prices for individual markets or companies, identified by ticker codes.\n",
    "\n",
    "Here is the Yahoo! Finance [Ticker Lookup](https://finance.yahoo.com/lookup/)."
   ]
  },
  {
   "cell_type": "markdown",
   "id": "5becba41-8423-4d2a-b442-28373d3e8552",
   "metadata": {},
   "source": [
    "## Instructions"
   ]
  },
  {
   "cell_type": "markdown",
   "id": "5b2088d8-e5c4-48ca-9d05-493db5d2bbf2",
   "metadata": {},
   "source": [
    "To complete the assignment, follow these steps:"
   ]
  },
  {
   "cell_type": "markdown",
   "id": "533e3026-75a9-42db-bca5-89e94852dc94",
   "metadata": {},
   "source": [
    "### Import\n",
    "\n",
    "Run the next code cell to bring in the necessary Python packages."
   ]
  },
  {
   "cell_type": "code",
   "execution_count": 1,
   "id": "6b57f748-2c68-4ad0-9610-2ba988a4a88c",
   "metadata": {},
   "outputs": [],
   "source": [
    "# import Python packages\n",
    "import polars as pl # pandas DataFrame utilities\n",
    "import pandas as pd # pandas DataFrame utilities\n",
    "\n",
    "# package for downloading historical market data\n",
    "import yfinance as yf\n",
    "\n",
    "import warnings\n",
    "# Suppress warnings for cleaner output\n",
    "warnings.filterwarnings('ignore')"
   ]
  },
  {
   "cell_type": "markdown",
   "id": "9718638d",
   "metadata": {},
   "source": [
    "### Settings for All Data Gathering\n",
    "Run the next code cell to define settings that apply to all the companies or markets for which we are gathering data."
   ]
  },
  {
   "cell_type": "code",
   "execution_count": 2,
   "id": "24db1ad2",
   "metadata": {},
   "outputs": [],
   "source": [
    "start_date = '2000-01-01'\n",
    "end_date = '2025-09-25'\n",
    "\n",
    "startfile = \"msds_getdata_yfinance_\""
   ]
  },
  {
   "cell_type": "markdown",
   "id": "fb29d7b4-ba86-4124-b6ae-c438a4e6dac0",
   "metadata": {},
   "source": [
    "### Read data for Apple \n",
    "\n",
    "The following code cell gathers pricing data for Apple and stores those data in a comma-delimited text file in the working directory app. \n",
    "\n",
    "Subsequent code cells do the same thing for other companies.\n",
    "\n",
    "We check the contents of the working directory app after we get the data for each company."
   ]
  },
  {
   "cell_type": "code",
   "execution_count": 3,
   "id": "6f43d42c-ee25-43d2-a1b1-ce2fb42a2bd8",
   "metadata": {},
   "outputs": [
    {
     "name": "stdout",
     "output_type": "stream",
     "text": [
      "                               Open      High       Low     Close     Volume  \\\n",
      "Date                                                                           \n",
      "2000-01-03 00:00:00-05:00  0.787090  0.844316  0.763168  0.840094  535796800   \n",
      "2000-01-04 00:00:00-05:00  0.812419  0.830244  0.759415  0.769266  512377600   \n",
      "2000-01-05 00:00:00-05:00  0.778647  0.829775  0.773018  0.780523  778321600   \n",
      "2000-01-06 00:00:00-05:00  0.796471  0.803038  0.712977  0.712977  767972800   \n",
      "2000-01-07 00:00:00-05:00  0.724235  0.758008  0.716731  0.746751  460734400   \n",
      "\n",
      "                           Dividends  Stock Splits  \n",
      "Date                                                \n",
      "2000-01-03 00:00:00-05:00        0.0           0.0  \n",
      "2000-01-04 00:00:00-05:00        0.0           0.0  \n",
      "2000-01-05 00:00:00-05:00        0.0           0.0  \n",
      "2000-01-06 00:00:00-05:00        0.0           0.0  \n",
      "2000-01-07 00:00:00-05:00        0.0           0.0  \n"
     ]
    }
   ],
   "source": [
    "symbol = 'AAPL'\n",
    "ticker = yf.Ticker(symbol)\n",
    "historical_data = ticker.history(start = start_date, end = end_date)\n",
    "print(historical_data.head())\n",
    "historical_data.to_csv(startfile + symbol.lower() + \".csv\")"
   ]
  },
  {
   "cell_type": "code",
   "execution_count": 4,
   "id": "ff2b1d1a",
   "metadata": {},
   "outputs": [
    {
     "name": "stdout",
     "output_type": "stream",
     "text": [
      "getdata_yfinance.ipynb\t     msds_getdata_yfinance_aapl.csv\n",
      "msds_getdata_yfinance.ipynb\n"
     ]
    }
   ],
   "source": [
    "# check that the file is in the working directory\n",
    "!ls "
   ]
  }
 ],
 "metadata": {
  "kernelspec": {
   "display_name": "Python 3 (ipykernel)",
   "language": "python",
   "name": "python3"
  },
  "language_info": {
   "codemirror_mode": {
    "name": "ipython",
    "version": 3
   },
   "file_extension": ".py",
   "mimetype": "text/x-python",
   "name": "python",
   "nbconvert_exporter": "python",
   "pygments_lexer": "ipython3",
   "version": "3.13.3"
  }
 },
 "nbformat": 4,
 "nbformat_minor": 5
}
